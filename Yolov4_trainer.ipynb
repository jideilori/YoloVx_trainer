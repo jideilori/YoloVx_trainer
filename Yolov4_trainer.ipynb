{
  "nbformat": 4,
  "nbformat_minor": 0,
  "metadata": {
    "colab": {
      "name": "Yolov4 trainer.ipynb",
      "provenance": [],
      "collapsed_sections": [],
      "mount_file_id": "1mFuFVK12uhN-6V7PIcy6klOD2fLRSSjT",
      "authorship_tag": "ABX9TyMf99xVWar7rQNqzxPHKD5O",
      "include_colab_link": true
    },
    "kernelspec": {
      "name": "python3",
      "display_name": "Python 3"
    },
    "accelerator": "GPU"
  },
  "cells": [
    {
      "cell_type": "markdown",
      "metadata": {
        "id": "view-in-github",
        "colab_type": "text"
      },
      "source": [
        "<a href=\"https://colab.research.google.com/github/jideilori/YoloVx_trainer/blob/main/Yolov4_trainer.ipynb\" target=\"_parent\"><img src=\"https://colab.research.google.com/assets/colab-badge.svg\" alt=\"Open In Colab\"/></a>"
      ]
    },
    {
      "cell_type": "markdown",
      "metadata": {
        "id": "klkmpqrd4kLZ"
      },
      "source": [
        "# Training Yolov4 custom object detector\n",
        "\n",
        "This notebook will help you train your yolov4 object detector with ease. it assumes you've annotated all your images and they are stored all stored in the format below\n",
        "in a zip folder in your drive\n",
        "\n",
        "```\n",
        "annotations\n",
        "-------img_1.jpg\n",
        "-------img_1.txt\n",
        "-------img_2.jpg\n",
        "-------img_2.txt\n",
        "-------classes.txt\n",
        "obj.data\n",
        "obj.names\n",
        "```\n"
      ]
    },
    {
      "cell_type": "markdown",
      "metadata": {
        "id": "9nA51Qy0QhQD"
      },
      "source": [
        "# Step 1: Clone and build Darknet"
      ]
    },
    {
      "cell_type": "code",
      "metadata": {
        "id": "hN1WDSb5Faow"
      },
      "source": [
        "# clone darknet repo\n",
        "!git clone https://github.com/AlexeyAB/darknet\n",
        "# change makefile to have GPU and OPENCV enabled\n",
        "%cd darknet\n",
        "!sed -i 's/OPENCV=0/OPENCV=1/' Makefile\n",
        "!sed -i 's/GPU=0/GPU=1/' Makefile\n",
        "!sed -i 's/CUDNN=0/CUDNN=1/' Makefile\n",
        "!sed -i 's/CUDNN_HALF=0/CUDNN_HALF=1/' Makefile\n",
        "# verify CUDA\n",
        "!/usr/local/cuda/bin/nvcc --version\n",
        "# make darknet (builds darknet so that you can then use the darknet executable \n",
        "# file to run or train object detectors)\n",
        "!make"
      ],
      "execution_count": null,
      "outputs": []
    },
    {
      "cell_type": "markdown",
      "metadata": {
        "id": "jUV2KWC_6Mgq"
      },
      "source": [
        "#Step 2: Preparing your Data for training"
      ]
    },
    {
      "cell_type": "code",
      "metadata": {
        "id": "2A6YOrP26y_J"
      },
      "source": [
        "# Import necessaray libraries \n",
        "import shutil \n",
        "import os\n",
        "from google.colab.patches import cv2_imshow\n",
        "import cv2\n",
        "import random"
      ],
      "execution_count": 7,
      "outputs": []
    },
    {
      "cell_type": "code",
      "metadata": {
        "id": "GW_jCxrI59lY"
      },
      "source": [
        "# copy and unzip folder to virtual machine\n",
        "!cp -r /content/drive/MyDrive/yolov4/licplates/license_plates.zip /content\n",
        "!unzip /content/license_plates.zip  -d /content/data"
      ],
      "execution_count": null,
      "outputs": []
    },
    {
      "cell_type": "markdown",
      "metadata": {
        "id": "AyVqK33i66D-"
      },
      "source": [
        "Your directory should loook like this at this point\n",
        "\n",
        "```\n",
        "data\n",
        "---license_plates\n",
        "-----annotations\n",
        "-------img_1.jpg\n",
        "-------img_1.txt\n",
        "-------img_2.jpg\n",
        "-------img_2.txt\n",
        "-------classes.txt\n",
        "-----obj.data\n",
        "-----obj.names\n",
        "```\n",
        "\n"
      ]
    },
    {
      "cell_type": "code",
      "metadata": {
        "id": "uHFQbAFg7K4p"
      },
      "source": [
        "# extract filenames ending with .txt except classes\n",
        "filenames=[i[:-4] for i in os.listdir('/content/data/license_plates/annotations')\\\n",
        "           if i.endswith('.txt') and  i !='classes.txt']"
      ],
      "execution_count": 6,
      "outputs": []
    },
    {
      "cell_type": "code",
      "metadata": {
        "id": "I4HdIJjy8r5J"
      },
      "source": [
        "# Create train and validation folders\n",
        "try:\n",
        "  os.makedirs('/content/data/license_plates/train')\n",
        "  os.makedirs('/content/data/license_plates/val')\n",
        "except:\n",
        "  pass"
      ],
      "execution_count": 10,
      "outputs": []
    },
    {
      "cell_type": "code",
      "metadata": {
        "id": "OB4tx9bi-dj2"
      },
      "source": [
        "source = '/content/data/license_plates/annotations/'\n",
        "train_dir = '/content/data/license_plates/train/'\n",
        "val_dir = '/content/data/license_plates/val/'\n",
        "split_size = 0.7\n",
        "seed = 42\n",
        "def split_data(source, traindir, valdir, split_size,seed):\n",
        "  '''\n",
        "    Split the annotated files into training and validation set\n",
        "    \n",
        "    Args:\n",
        "        source(str) : path to annotations folder\n",
        "        traindir (str) :  path to train folder\n",
        "        valdir (str) : path to validation folder\n",
        "        split_size (float) : e.g  0.7. splits the data into 70% train and 30% val\n",
        "        seed (int) : shuffle seed\n",
        "  '''\n",
        "  random.seed(seed)\n",
        "  random.shuffle(filenames)\n",
        "\n",
        "  train_imgs = filenames[:int(len(filenames)*split_size)]\n",
        "  val_imgs  = filenames[int(len(filenames)*split_size):]\n",
        "\n",
        "  for img in train_imgs:\n",
        "    shutil.copyfile(source+img+'.txt',train_dir + img+'.txt')\n",
        "    shutil.copyfile(source+img+'.jpg',train_dir + img+'.jpg')\n",
        "    \n",
        "  for img in val_imgs:\n",
        "    shutil.copyfile(source+img+'.txt',val_dir + img+'.txt')\n",
        "    shutil.copyfile(source+img+'.jpg',val_dir + img+'.jpg')\n",
        "\n",
        "split_data(source, train_dir, val_dir, split_size,seed)"
      ],
      "execution_count": 11,
      "outputs": []
    },
    {
      "cell_type": "code",
      "metadata": {
        "id": "l1tPvBnWGqCT"
      },
      "source": [
        "# download cfg to google drive and change its name\n",
        "# Copy it to your drive,edit and save your modificatiions but if youve done it\n",
        "# before ignore this cell and continue\n",
        "!cp -r /content/darknet/cfg/yolov4-custom.cfg /content/drive/MyDrive/yolov4/licplates/"
      ],
      "execution_count": 33,
      "outputs": []
    },
    {
      "cell_type": "markdown",
      "metadata": {
        "id": "kp0Q37hjHg7q"
      },
      "source": [
        "# Step 3 : configuring yolov4 paramaters before training\n",
        "\n",
        "Now you need to edit the .cfg to fit your needs based on your object detector. Open it up in a code or text editor to do so or run the next cell to automatically edit the config files\n",
        "\n",
        "If you downloaded cfg to google drive you can use the built in  **Text Editor** by going to your google drive and double clicking on yolov4-obj.cfg and then clicking on the **Open with** drop down and selectin **Text Editor**.\n",
        "\n",
        "See the offical repo guidelines on modifying the cfg [here](https://github.com/AlexeyAB/darknet#how-to-train-to-detect-your-custom-objects) \n",
        "\n",
        "**Note** these **line numbers** are for *yolov4-custom.cfg* only\n",
        "\n",
        "\n",
        "1. **batch = 64**  - line 6\n",
        "2. **subdivisions = 16**  - line 7. \n",
        "\n",
        "If you run into any issues then up subdivisions to 32.\n",
        "\n",
        "Make the rest of the changes to the yolov4-custom-cfg based on how many classes you are training your detector on.\n",
        "\n",
        "Change line 20 (max_batches) to (classes*2000 but not less than number of training images and not less than 6000), i.e. \n",
        "3 * 2000 = 6000, hence max_batches=6000 if you train for 3 classes.\n",
        "\n",
        "3. **max_batches = 6000**, - line 20\n",
        "4.  **steps = 4800, 5400**, - line 22\n",
        "5. I changed the **classes = 1** in the three YOLO layers and **filters = 18** in the three convolutional layers before the YOLO layers.\n",
        "\n",
        "\n",
        "filters= line 963,1051,1139\n",
        "\n",
        "classes = line 970,1058,1146\n",
        "\n",
        "6. width = 416 - line 8 \n",
        "7. height = 416 - line 9\n",
        "\n",
        "**(these can be any multiple of 32, 416 is standard, you can sometimes improve results by making value larger like 608 but will slow down training)**\n",
        "\n",
        "max_batches = (# of classes) * 2000\n",
        "\n",
        "**(but no less than 6000 so if you are training for 1, 2, or 3 classes it will be 6000, however detector for 5 classes would have max_batches=10000)**\n",
        "\n",
        "steps = (80% of max_batches), (90% of max_batches)\n",
        "**(so if your max_batches = 10000, then steps = 8000, 9000)**\n",
        "\n",
        "filters = (no. of classes + 5) * 3\n",
        "**(so if you are training for one class then your filters = 18, but if you are training for 4 classes then your filters = 27)**\n",
        "\n",
        "**Optional:** If you run into memory issues or find the training taking a super long time. In each of the three yolo layers in the cfg, change one line from random = 1 to **random = 0** to speed up training but slightly reduce accuracy of model. Will also help save memory if you run into any memory issues.\n"
      ]
    },
    {
      "cell_type": "markdown",
      "metadata": {
        "id": "0suciE-tMJ1F"
      },
      "source": [
        "modify the config file as shown above then copy it to the colab vm. this way your original cfg will be stored"
      ]
    },
    {
      "cell_type": "code",
      "metadata": {
        "id": "67Z3Achn1nCe"
      },
      "source": [
        "def edit_cfg(path_objnames,path_cfg):\n",
        "  '''\n",
        "    Auto edit the specified yolov4 config file\n",
        "    \n",
        "    Args:\n",
        "        path_objnames(str) : path to obj.names\n",
        "        path_cfg (str) :  path to custom yolov4 config file\n",
        "      \n",
        "  '''\n",
        "  classes =  open(f'{path_objnames}','r') \n",
        "  clslines =[line.strip() for line in classes if line.strip()!='']     \n",
        "  no_classes = len(clslines)    \n",
        "\n",
        "  if no_classes <= 3 :\n",
        "      max_batches = 6000\n",
        "  else:\n",
        "      max_batches = no_classes * 2000\n",
        "\n",
        "  steps_low = int(0.80 * max_batches)\n",
        "  steps_up = int(0.90 * max_batches)\n",
        "  steps = f'{steps_low,steps_up}'[1:-1].replace(' ','')\n",
        "\n",
        "  filters =  (no_classes + 5) * 3\n",
        "\n",
        "  a_file = open(f\"{path_cfg}\", \"r\")\n",
        "  list_of_lines = a_file.readlines()\n",
        "\n",
        "  list_of_lines[5] = \"batch=64\\n\"\n",
        "  list_of_lines[6] = \"subdivisions=16\\n\"\n",
        "\n",
        "  list_of_lines[7] = \"width=416\\n\"\n",
        "  list_of_lines[8] = \"height=416\\n\"\n",
        "\n",
        "  list_of_lines[19] = f\"max_batches = {max_batches}\\n\"\n",
        "  list_of_lines[21] = f\"steps = {steps}\\n\"\n",
        "\n",
        "  list_of_lines[962] = f\"filters = {filters}\\n\"\n",
        "  list_of_lines[1050] = f\"filters = {filters}\\n\"\n",
        "  list_of_lines[1138] = f\"filters = {filters}\\n\"\n",
        "\n",
        "  list_of_lines[969] = f\"classes = {no_classes}\\n\"\n",
        "  list_of_lines[1057] = f\"classes = {no_classes}\\n\"\n",
        "  list_of_lines[1145] = f\"classes = {no_classes}\\n\"\n",
        "\n",
        "  a_file = open(f\"{path_cfg}\", \"w\")\n",
        "  a_file.writelines(list_of_lines)\n",
        "  a_file.close()\n",
        "edit_cfg('/content/data/license_plates/obj.names','/content/drive/MyDrive/yolov4/licplates/yolov4-custom.cfg')"
      ],
      "execution_count": 13,
      "outputs": []
    },
    {
      "cell_type": "code",
      "metadata": {
        "id": "0G3wH8j5MTQw"
      },
      "source": [
        "# After modification, copy it from your google drive to the colab vm\n",
        "!cp -r /content/drive/MyDrive/yolov4/licplates/yolov4-custom.cfg /content/data/license_plates"
      ],
      "execution_count": 14,
      "outputs": []
    },
    {
      "cell_type": "code",
      "metadata": {
        "id": "MTFQO7ArH-Dm"
      },
      "source": [
        "# generate train.txt and copy it to drive\n",
        "import os\n",
        "image_files = []\n",
        "for filename in os.listdir('/content/data/license_plates/train'):\n",
        "    if filename.endswith(\".jpg\"):\n",
        "        image_files.append(\"/content/data/license_plates/train/\" + filename)\n",
        "with open(\"/content/data/license_plates/train.txt\", \"w\") as outfile:\n",
        "    for image in image_files:\n",
        "        outfile.write(image)\n",
        "        outfile.write(\"\\n\")\n",
        "    outfile.close()\n",
        "!cp -r /content/data/license_plates/train.txt /content/drive/MyDrive/yolov4/licplates/"
      ],
      "execution_count": 15,
      "outputs": []
    },
    {
      "cell_type": "code",
      "metadata": {
        "id": "cajh_csZIGIg"
      },
      "source": [
        "# Generate test.txt and copy it to drive\n",
        "import os\n",
        "image_files = []\n",
        "for filename in os.listdir('/content/data/license_plates/val'):\n",
        "    if filename.endswith(\".jpg\"):\n",
        "        image_files.append(\"/content/data/license_plates/val/\" + filename)\n",
        "with open(\"/content/data/license_plates/val.txt\", \"w\") as outfile:\n",
        "    for image in image_files:\n",
        "        outfile.write(image)\n",
        "        outfile.write(\"\\n\")\n",
        "    outfile.close()\n",
        "!cp -r /content/data/license_plates/val.txt /content/drive/MyDrive/yolov4/licplates/"
      ],
      "execution_count": 16,
      "outputs": []
    },
    {
      "cell_type": "markdown",
      "metadata": {
        "id": "qESXjY7dOF3-"
      },
      "source": [
        "Edit the obj.data file located at \n",
        "/content/data/license_plates/obj.data' and ensure the directory point to the appropraite directories in your vm and drive\n",
        "```\n",
        "classes = 1\n",
        "train =  /content/drive/MyDrive/yolov4/licplates/train.txt\n",
        "valid = /content/drive/MyDrive/yolov4/licplates/val.txt\n",
        "names =  /content/data/license_plates/obj.names\n",
        "backup = /content/drive/MyDrive/yolov4/licplates/backup\n",
        "```"
      ]
    },
    {
      "cell_type": "code",
      "metadata": {
        "id": "hpbPbFQXIMzE"
      },
      "source": [
        "# download the weights\n",
        "!wget https://github.com/AlexeyAB/darknet/releases/download/darknet_yolo_v3_optimal/yolov4.conv.137"
      ],
      "execution_count": null,
      "outputs": []
    },
    {
      "cell_type": "code",
      "metadata": {
        "id": "QinIA78QBn2H"
      },
      "source": [
        "%cd .."
      ],
      "execution_count": null,
      "outputs": []
    },
    {
      "cell_type": "markdown",
      "metadata": {
        "id": "sKNTW8OVBeta"
      },
      "source": [
        "# Step 4: Begin training"
      ]
    },
    {
      "cell_type": "code",
      "metadata": {
        "id": "shl2S7hUIRq-"
      },
      "source": [
        "# train your custom detector! (uncomment %%capture below if you run into memory \n",
        "# issues or your Colab is crashing)\n",
        "# %%capture\n",
        "!/content/darknet/darknet detector train /content/data/license_plates/obj.data\\\n",
        " /content/data/license_plates/yolov4-custom.cfg yolov4.conv.137 -dont_show -map"
      ],
      "execution_count": null,
      "outputs": []
    },
    {
      "cell_type": "markdown",
      "metadata": {
        "id": "n3kuwe2ZRTEE"
      },
      "source": [
        "Use ctrl + shift + i, then go to console nd paste the following\n",
        "\n",
        "```\n",
        "var startClickConnect = function startClickConnect(){\n",
        "    var clickConnect = function clickConnect(){\n",
        "        console.log(\"Connnect Clicked - Start\");\n",
        "        document.querySelector(\"#top-toolbar > colab-connect-button\").shadowRoot.querySelector(\"#connect\").click();\n",
        "        console.log(\"Connnect Clicked - End\"); \n",
        "    };\n",
        "\n",
        "    var intervalId = setInterval(clickConnect, 60000);\n",
        "\n",
        "    var stopClickConnectHandler = function stopClickConnect() {\n",
        "        console.log(\"Connnect Clicked Stopped - Start\");\n",
        "        clearInterval(intervalId);\n",
        "        console.log(\"Connnect Clicked Stopped - End\");\n",
        "    };\n",
        "\n",
        "    return stopClickConnectHandler;\n",
        "};\n",
        "\n",
        "var stopClickConnect = startClickConnect();\n",
        "```\n",
        "\n",
        "To stop, use\n",
        "```\n",
        "stopClickConnect()\n",
        "```"
      ]
    },
    {
      "cell_type": "markdown",
      "metadata": {
        "id": "XxgZ19YTJhQO"
      },
      "source": [
        "**Note**: If for some reason we get an error or our Colab goes idle during training, we have not lost your partially trained model and weights! Every 100 iterations a weights file called **yolov4-obj_last.weights** is saved to our specified backup folder which should be in our drive because if our runtime crashes and our backup folder was in our cloud VM we would loose our weights and our training progress.\n",
        "\n",
        "We can kick off training from our last saved weights file so that we don't have to restart! Just run the following command but with your backup location.\n",
        "```\n",
        "!./darknet detector train data/obj.data cfg/yolov4-obj.cfg /mydrive/yolov4/backup/yolov4-obj_last.weights -dont_show\n",
        "```"
      ]
    },
    {
      "cell_type": "code",
      "metadata": {
        "id": "pGNL9ipQJIVt"
      },
      "source": [
        "# kick off training from where it last saved\n",
        "# !./darknet detector train data/obj.data cfg/yolov4-obj.cfg /mydrive/yolov4/backup/yolov4-obj_last.weights -dont_show"
      ],
      "execution_count": null,
      "outputs": []
    },
    {
      "cell_type": "markdown",
      "metadata": {
        "id": "v5fYMo0CJdyj"
      },
      "source": [
        "# Step 5: Checking the Mean Average Precision (mAP) of Your Model\n",
        "If you didn't run the training with the '-map- flag added then you can still find out the mAP of your model after training. Run the following command on any of the saved weights from the training to see the mAP value for that specific weight's file. I would suggest to run it on multiple of the saved weights to compare and find the weights with the highest mAP as that is the most accurate one!\n",
        "\n",
        "**NOTE:** If you think your final weights file has overfitted then it is important to run these mAP commands to see if one of the previously saved weights is a more accurate model for your classes."
      ]
    },
    {
      "cell_type": "code",
      "metadata": {
        "id": "1LFRJ_lJJJPn"
      },
      "source": [
        "!/content/darknet/darknet detector map /content/data/license_plates/obj.data \\\n",
        " /content/data/license_plates/yolov4-custom.cfg \\\n",
        " /content/drive/MyDrive/yolov4/licplates/backup/yolov4-custom_1000.weights\n",
        " "
      ],
      "execution_count": null,
      "outputs": []
    },
    {
      "cell_type": "code",
      "metadata": {
        "id": "XFhEgDW-JtUS"
      },
      "source": [
        "# need to set our custom cfg to test mode \n",
        "%cd darknet\n",
        "!sed -i 's/batch=64/batch=1/' /content/data/license_plates/yolov4-custom.cfg\n",
        "!sed -i 's/subdivisions=16/subdivisions=1/' /content/data/license_plates/yolov4-custom.cfg\n",
        "# run your custom detector with this command (upload an image to your google drive to test, thresh flag sets accuracy that detection must be in order to show it)\n",
        "\n",
        "!/content/darknet/darknet detector test /content/data/license_plates/obj.data \\\n",
        " /content/data/license_plates/yolov4-custom.cfg \\\n",
        "/content/drive/MyDrive/yolov4/licplates/backup/yolov4-custom_1000.weights \\\n",
        "/content/data/license_plates/val/16.jpg -thresh 0.5"
      ],
      "execution_count": null,
      "outputs": []
    },
    {
      "cell_type": "code",
      "metadata": {
        "id": "fBebZzECvxxj"
      },
      "source": [
        "img = cv2.imread('/content/darknet/predictions.jpg')\n",
        "cv2_imshow(img)"
      ],
      "execution_count": null,
      "outputs": []
    }
  ]
}